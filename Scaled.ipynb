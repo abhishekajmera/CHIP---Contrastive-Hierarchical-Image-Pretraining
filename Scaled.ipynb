{
 "cells": [
  {
   "cell_type": "code",
   "execution_count": 9,
   "id": "620cefb1",
   "metadata": {},
   "outputs": [
    {
     "name": "stdout",
     "output_type": "stream",
     "text": [
      "{'american_paint_horse': '1', 'sparrow': '5', 'rhinoceros': '1', 'ragdoll_cat': '4', 'tuna': '0', 'catfish': '4', 'giraffe': '4', 'crow': '5', 'burmese_cat': '5', 'british_shorthair_cat': '6', 'puffbird': '6', 'ibis': '1', 'cuckoo': '0', 'parrot': '2', 'camarillo_white_horse': '0', 'kingfisher': '5', 'friesian_horse': '1', 'american_bobtail': '5', 'kiwi_bird': '5', 'deer': '5'}\n"
     ]
    }
   ],
   "source": [
    "import torch\n",
    "import numpy as np\n",
    "import matplotlib.pyplot as plt\n",
    "# importing packages\n",
    "from PIL import Image\n",
    "import glob\n",
    "import sklearn.metrics as metrics\n",
    "import warnings\n",
    "warnings.filterwarnings(\"ignore\")\n",
    "import copy \n",
    "\n",
    "embedding = torch.load(\"Embeddings Generated/unseen_embeddings_train_L2.pth\")\n",
    "km = torch.load(\"Cluster Centroid Embeddings/10_allmean_level2 Kmeans_88x2048_resnet_k_8.pth\")\n",
    "\n",
    "\n",
    "cluster_centre = {}\n",
    "exp = 1\n",
    "mul = 1\n",
    "embedding_list = []\n",
    "embedding_map = {}\n",
    "for i, unseen_class in enumerate(embedding.keys()):\n",
    "    embedding_list.append(np.array(embedding[unseen_class][0].flatten().cpu()))\n",
    "    embedding_map[unseen_class] = i\n",
    "    \n",
    "embedding_arr = np.array(torch.tensor(embedding_list))\n",
    "km_cluster_centers = km.cluster_centers_\n",
    "\n",
    "from sklearn.preprocessing import StandardScaler,MinMaxScaler\n",
    "scaler = StandardScaler()\n",
    "embedding_arr = scaler.fit_transform(embedding_arr)\n",
    "km_cluster_centers = scaler.transform(km_cluster_centers)\n",
    "\n",
    "emedding_old = copy.deepcopy(embedding)\n",
    "for i, unseen_class in enumerate(emedding_old.keys()):\n",
    "    embedding[unseen_class] = embedding_arr[embedding_map[unseen_class]]\n",
    "    \n",
    "for i, clust in enumerate(km_cluster_centers):\n",
    "    cluster_centre[i] = torch.unsqueeze(\n",
    "        torch.unsqueeze(torch.tensor(clust), dim=1), dim=2)\n",
    "\n",
    "# In[]:\n",
    "    \n",
    "assigned_clust = {}\n",
    "for unseen_class in embedding.keys():\n",
    "    unseen_class_embedding = embedding[unseen_class]\n",
    "    assigned_clust[unseen_class] = 0\n",
    "    maxSim = -1\n",
    "    point2 = torch.pow(torch.unsqueeze(torch.tensor(unseen_class_embedding.flatten()), dim=0).cpu() * mul, exp)\n",
    "    for clust_key in cluster_centre.keys():\n",
    "        point1 = torch.pow(torch.unsqueeze(torch.tensor(cluster_centre[clust_key]).flatten(), dim=0).cpu() * mul, exp)        \n",
    "        sim = metrics.pairwise.cosine_distances(point1, point2)\n",
    "        if sim[0][0] > maxSim:\n",
    "            assigned_clust[unseen_class] = str(clust_key)\n",
    "            maxSim = sim[0][0]\n",
    "\n",
    "print(assigned_clust)"
   ]
  },
  {
   "cell_type": "code",
   "execution_count": null,
   "id": "e519e541",
   "metadata": {},
   "outputs": [],
   "source": []
  }
 ],
 "metadata": {
  "kernelspec": {
   "display_name": "Python 3 (ipykernel)",
   "language": "python",
   "name": "python3"
  },
  "language_info": {
   "codemirror_mode": {
    "name": "ipython",
    "version": 3
   },
   "file_extension": ".py",
   "mimetype": "text/x-python",
   "name": "python",
   "nbconvert_exporter": "python",
   "pygments_lexer": "ipython3",
   "version": "3.8.13"
  }
 },
 "nbformat": 4,
 "nbformat_minor": 5
}
